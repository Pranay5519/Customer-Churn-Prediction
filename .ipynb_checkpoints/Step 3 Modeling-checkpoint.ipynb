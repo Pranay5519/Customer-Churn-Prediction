{
 "cells": [
  {
   "cell_type": "code",
   "execution_count": 100,
   "id": "72ca0147",
   "metadata": {},
   "outputs": [],
   "source": [
    "from sklearn.metrics import accuracy_score, f1_score, precision_score, recall_score\n",
    "import pandas as pd\n",
    "from sklearn.model_selection import train_test_split\n",
    "from sklearn.preprocessing import OneHotEncoder, StandardScaler, OrdinalEncoder\n",
    "from sklearn.model_selection import KFold, cross_val_score\n",
    "from sklearn.linear_model import LogisticRegression\n",
    "from sklearn.pipeline import Pipeline\n",
    "from sklearn.compose import ColumnTransformer\n",
    "import numpy as np\n",
    "from imblearn.over_sampling import SMOTE\n",
    "\n",
    "import matplotlib.pyplot as plt\n",
    "import seaborn  as sns\n",
    "import warnings\n",
    "from sklearn.linear_model import LogisticRegression\n",
    "from sklearn.svm import SVC\n",
    "from sklearn.tree import DecisionTreeClassifier\n",
    "from sklearn.ensemble import RandomForestClassifier, ExtraTreesClassifier, GradientBoostingClassifier, AdaBoostClassifier\n",
    "from sklearn.neural_network import MLPClassifier\n",
    "from xgboost import XGBClassifier\n",
    "warnings.filterwarnings('ignore')"
   ]
  },
  {
   "cell_type": "code",
   "execution_count": 101,
   "id": "e0a56775",
   "metadata": {},
   "outputs": [
    {
     "data": {
      "text/html": [
       "<div>\n",
       "<style scoped>\n",
       "    .dataframe tbody tr th:only-of-type {\n",
       "        vertical-align: middle;\n",
       "    }\n",
       "\n",
       "    .dataframe tbody tr th {\n",
       "        vertical-align: top;\n",
       "    }\n",
       "\n",
       "    .dataframe thead th {\n",
       "        text-align: right;\n",
       "    }\n",
       "</style>\n",
       "<table border=\"1\" class=\"dataframe\">\n",
       "  <thead>\n",
       "    <tr style=\"text-align: right;\">\n",
       "      <th></th>\n",
       "      <th>CIF</th>\n",
       "      <th>CUS_DOB</th>\n",
       "      <th>AGE</th>\n",
       "      <th>CUS_Month_Income</th>\n",
       "      <th>CUS_Gender</th>\n",
       "      <th>CUS_Marital_Status</th>\n",
       "      <th>CUS_Customer_Since</th>\n",
       "      <th>YEARS_WITH_US</th>\n",
       "      <th># total debit transactions for S1</th>\n",
       "      <th># total debit transactions for S2</th>\n",
       "      <th># total debit transactions for S3</th>\n",
       "      <th>total debit amount for S1</th>\n",
       "      <th>total debit amount for S2</th>\n",
       "      <th>total debit amount for S3</th>\n",
       "      <th># total credit transactions for S1</th>\n",
       "      <th># total credit transactions for S2</th>\n",
       "      <th># total credit transactions for S3</th>\n",
       "      <th>total credit amount for S1</th>\n",
       "      <th>total credit amount for S2</th>\n",
       "      <th>total credit amount for S3</th>\n",
       "      <th>total debit amount</th>\n",
       "      <th>total debit transactions</th>\n",
       "      <th>total credit amount</th>\n",
       "      <th>total credit transactions</th>\n",
       "      <th>total transactions</th>\n",
       "      <th>CUS_Target</th>\n",
       "      <th>TAR_Desc</th>\n",
       "      <th>Status</th>\n",
       "    </tr>\n",
       "  </thead>\n",
       "  <tbody>\n",
       "    <tr>\n",
       "      <th>0</th>\n",
       "      <td>XXXXXX</td>\n",
       "      <td>Feb 13 1970 12:00AM</td>\n",
       "      <td>49</td>\n",
       "      <td>7116.64</td>\n",
       "      <td>MALE</td>\n",
       "      <td>MARRIED</td>\n",
       "      <td>1994-06-30</td>\n",
       "      <td>25</td>\n",
       "      <td>277</td>\n",
       "      <td>265</td>\n",
       "      <td>345</td>\n",
       "      <td>1459126.64</td>\n",
       "      <td>1230543.08</td>\n",
       "      <td>2068641.91</td>\n",
       "      <td>10</td>\n",
       "      <td>24</td>\n",
       "      <td>31</td>\n",
       "      <td>1516981.1</td>\n",
       "      <td>1764079.61</td>\n",
       "      <td>2378592.62</td>\n",
       "      <td>4758311.63</td>\n",
       "      <td>887</td>\n",
       "      <td>5659653.33</td>\n",
       "      <td>65</td>\n",
       "      <td>952</td>\n",
       "      <td>2231</td>\n",
       "      <td>EXECUTIVE</td>\n",
       "      <td>ACTIVE</td>\n",
       "    </tr>\n",
       "    <tr>\n",
       "      <th>1</th>\n",
       "      <td>XXXXXX</td>\n",
       "      <td>Sep 20 1973 12:00AM</td>\n",
       "      <td>46</td>\n",
       "      <td>1500000.00</td>\n",
       "      <td>FEMALE</td>\n",
       "      <td>SINGLE</td>\n",
       "      <td>2005-05-19</td>\n",
       "      <td>14</td>\n",
       "      <td>37</td>\n",
       "      <td>15</td>\n",
       "      <td>45</td>\n",
       "      <td>35372.55</td>\n",
       "      <td>20134.00</td>\n",
       "      <td>83856.67</td>\n",
       "      <td>2</td>\n",
       "      <td>4</td>\n",
       "      <td>4</td>\n",
       "      <td>10000.0</td>\n",
       "      <td>19500.00</td>\n",
       "      <td>57500.00</td>\n",
       "      <td>139363.22</td>\n",
       "      <td>97</td>\n",
       "      <td>87000.00</td>\n",
       "      <td>10</td>\n",
       "      <td>107</td>\n",
       "      <td>2223</td>\n",
       "      <td>LOW</td>\n",
       "      <td>ACTIVE</td>\n",
       "    </tr>\n",
       "  </tbody>\n",
       "</table>\n",
       "</div>"
      ],
      "text/plain": [
       "      CIF              CUS_DOB  AGE  CUS_Month_Income CUS_Gender  \\\n",
       "0  XXXXXX  Feb 13 1970 12:00AM   49           7116.64       MALE   \n",
       "1  XXXXXX  Sep 20 1973 12:00AM   46        1500000.00     FEMALE   \n",
       "\n",
       "  CUS_Marital_Status CUS_Customer_Since  YEARS_WITH_US  \\\n",
       "0            MARRIED         1994-06-30             25   \n",
       "1             SINGLE         2005-05-19             14   \n",
       "\n",
       "   # total debit transactions for S1  # total debit transactions for S2  \\\n",
       "0                                277                                265   \n",
       "1                                 37                                 15   \n",
       "\n",
       "   # total debit transactions for S3  total debit amount for S1  \\\n",
       "0                                345                 1459126.64   \n",
       "1                                 45                   35372.55   \n",
       "\n",
       "   total debit amount for S2  total debit amount for S3  \\\n",
       "0                 1230543.08                 2068641.91   \n",
       "1                   20134.00                   83856.67   \n",
       "\n",
       "   # total credit transactions for S1  # total credit transactions for S2  \\\n",
       "0                                  10                                  24   \n",
       "1                                   2                                   4   \n",
       "\n",
       "   # total credit transactions for S3  total credit amount for S1  \\\n",
       "0                                  31                   1516981.1   \n",
       "1                                   4                     10000.0   \n",
       "\n",
       "   total credit amount for S2  total credit amount for S3  total debit amount  \\\n",
       "0                  1764079.61                  2378592.62          4758311.63   \n",
       "1                    19500.00                    57500.00           139363.22   \n",
       "\n",
       "   total debit transactions  total credit amount  total credit transactions  \\\n",
       "0                       887           5659653.33                         65   \n",
       "1                        97             87000.00                         10   \n",
       "\n",
       "   total transactions  CUS_Target   TAR_Desc  Status  \n",
       "0                 952        2231  EXECUTIVE  ACTIVE  \n",
       "1                 107        2223        LOW  ACTIVE  "
      ]
     },
     "execution_count": 101,
     "metadata": {},
     "output_type": "execute_result"
    }
   ],
   "source": [
    "pd.set_option('display.max_columns',None)\n",
    "df = pd.read_excel(r'CHURNDATA (1) (1).xlsx')\n",
    "df.head(2)"
   ]
  },
  {
   "cell_type": "code",
   "execution_count": 102,
   "id": "48bb3ece",
   "metadata": {},
   "outputs": [],
   "source": [
    "del df['CIF']\n",
    "del df['CUS_DOB']\n",
    "del df['CUS_Customer_Since']"
   ]
  },
  {
   "cell_type": "code",
   "execution_count": 103,
   "id": "3552fd85",
   "metadata": {},
   "outputs": [],
   "source": [
    "df.dropna(inplace = True)"
   ]
  },
  {
   "cell_type": "code",
   "execution_count": 104,
   "id": "0502d4a6",
   "metadata": {},
   "outputs": [
    {
     "data": {
      "text/plain": [
       "Index(['AGE', 'CUS_Month_Income', 'CUS_Gender', 'CUS_Marital_Status',\n",
       "       'YEARS_WITH_US', '# total debit transactions for S1',\n",
       "       '# total debit transactions for S2',\n",
       "       '# total debit transactions for S3', 'total debit amount for S1',\n",
       "       'total debit amount for S2', 'total debit amount for S3',\n",
       "       '# total credit transactions for S1',\n",
       "       '# total credit transactions for S2',\n",
       "       '# total credit transactions for S3', 'total credit amount for S1',\n",
       "       'total credit amount for S2', 'total credit amount for S3',\n",
       "       'total debit amount', 'total debit transactions', 'total credit amount',\n",
       "       'total credit transactions', 'total transactions', 'CUS_Target',\n",
       "       'TAR_Desc', 'Status'],\n",
       "      dtype='object')"
      ]
     },
     "execution_count": 104,
     "metadata": {},
     "output_type": "execute_result"
    }
   ],
   "source": [
    "df.columns"
   ]
  },
  {
   "cell_type": "code",
   "execution_count": 105,
   "id": "4ed14c09",
   "metadata": {},
   "outputs": [],
   "source": [
    "df['Status'] = df['Status'].map({'ACTIVE':0 , 'CHURN':1})"
   ]
  },
  {
   "cell_type": "code",
   "execution_count": 106,
   "id": "f6f61088",
   "metadata": {},
   "outputs": [],
   "source": [
    "X = df.drop(columns=['Status'],axis=1)\n",
    "y = df['Status']"
   ]
  },
  {
   "cell_type": "code",
   "execution_count": 107,
   "id": "8ea26596",
   "metadata": {},
   "outputs": [
    {
     "ename": "IndentationError",
     "evalue": "unexpected indent (3896705181.py, line 6)",
     "output_type": "error",
     "traceback": [
      "\u001b[1;36m  File \u001b[1;32m\"C:\\Users\\Public\\Documents\\Wondershare\\CreatorTemp\\ipykernel_4744\\3896705181.py\"\u001b[1;36m, line \u001b[1;32m6\u001b[0m\n\u001b[1;33m    pipeline = Pipeline([\u001b[0m\n\u001b[1;37m    ^\u001b[0m\n\u001b[1;31mIndentationError\u001b[0m\u001b[1;31m:\u001b[0m unexpected indent\n"
     ]
    }
   ],
   "source": [
    "\n",
    "def scorer(model_name, model):\n",
    "    \n",
    "    output = []\n",
    "    output.append(model_name)\n",
    "    \n",
    "    pipeline = Pipeline([\n",
    "        ('preprocessor', preprocessor),  # Data preprocessing steps\n",
    "        ('SMOTE', SMOTE(random_state=42)),  # Apply SMOTE\n",
    "        ('classifier', model)  # Classification model\n",
    "    ])\n",
    "    \n",
    "    # K-fold cross-validation\n",
    "    kfold = KFold(n_splits=10, shuffle=True, random_state=42)\n",
    "\n",
    "    # Use 'accuracy' as the scoring metric for classification\n",
    "    scores = cross_val_score(pipeline, X_resampled, y_resampled, cv=kfold, scoring='accuracy')\n",
    "    scores  = scores[~np.isnan(scores)] \n",
    "    \n",
    "    print(model)\n",
    "    output.append(scores.mean())\n",
    "    \n",
    "    X_train, X_test, y_train, y_test = train_test_split(X_resampled, y_resampled, test_size=0.2, random_state=42)\n",
    "    \n",
    "    pipeline.fit(X_train, y_train)\n",
    "    \n",
    "    y_pred = pipeline.predict(X_test)\n",
    "    \n",
    "    # Calculate accuracy on the test set\n",
    "    accuracy = accuracy_score(y_test, y_pred)\n",
    "    \n",
    "    # Calculate F1 score on the test set\n",
    "    f1 = f1_score(y_test, y_pred)\n",
    "    \n",
    "    # Calculate precision on the test set\n",
    "    precision = precision_score(y_test, y_pred)\n",
    "    \n",
    "    # Calculate recall on the test set\n",
    "    recall = recall_score(y_test, y_pred)\n",
    "    train_acc = pipeline.score(X_train ,y_train)\n",
    "    output.extend([train_acc,accuracy, f1, precision, recall])\n",
    "    \n",
    "    return output"
   ]
  },
  {
   "cell_type": "markdown",
   "id": "f34be559",
   "metadata": {},
   "source": [
    "# Ordinal Encoding"
   ]
  },
  {
   "cell_type": "code",
   "execution_count": null,
   "id": "f9abb953",
   "metadata": {},
   "outputs": [],
   "source": [
    "columns_to_encode = ['CUS_Gender','TAR_Desc','CUS_Target','CUS_Marital_Status']\n",
    "scaling = ['AGE','CUS_Month_Income','YEARS_WITH_US', '# total debit transactions for S1',\n",
    "       '# total debit transactions for S2',\n",
    "       '# total debit transactions for S3', 'total debit amount for S1',\n",
    "       'total debit amount for S2', 'total debit amount for S3',\n",
    "       '# total credit transactions for S1',\n",
    "       '# total credit transactions for S2',\n",
    "       '# total credit transactions for S3', 'total credit amount for S1',\n",
    "       'total credit amount for S2', 'total credit amount for S3',\n",
    "       'total debit amount', 'total debit transactions', 'total credit amount',\n",
    "       'total credit transactions', 'total transactions']\n"
   ]
  },
  {
   "cell_type": "code",
   "execution_count": null,
   "id": "83a2465e",
   "metadata": {},
   "outputs": [],
   "source": [
    "preprocessor = ColumnTransformer(\n",
    "    transformers=[\n",
    "        ('stanardscaler', StandardScaler(), scaling),\n",
    "        ('cat', OrdinalEncoder(), columns_to_encode)\n",
    "    ], \n",
    "    remainder='passthrough'\n",
    ")\n",
    "\n"
   ]
  },
  {
   "cell_type": "code",
   "execution_count": null,
   "id": "ccdc6d98",
   "metadata": {},
   "outputs": [],
   "source": [
    "model_dict = {\n",
    "    'logistic_regression': LogisticRegression(),\n",
    "    'svm': SVC(),\n",
    "    'decision_tree': DecisionTreeClassifier(),\n",
    "    'random_forest': RandomForestClassifier(),\n",
    "    'extra_trees': ExtraTreesClassifier(),\n",
    "    'gradient_boosting': GradientBoostingClassifier(),\n",
    "    'adaboost': AdaBoostClassifier(),\n",
    "    'mlp': MLPClassifier(),\n",
    "    'xgboost': XGBClassifier()\n",
    "}\n"
   ]
  },
  {
   "cell_type": "code",
   "execution_count": null,
   "id": "9e40a14d",
   "metadata": {},
   "outputs": [],
   "source": [
    "model_output = []\n",
    "for model_name,model in model_dict.items():\n",
    "    model_output.append(scorer(model_name, model))"
   ]
  },
  {
   "cell_type": "code",
   "execution_count": null,
   "id": "ff100718",
   "metadata": {},
   "outputs": [],
   "source": [
    "model_df = pd.DataFrame(model_output, columns=['Modelname','mean_acc','train-acc','test acc', 'f1', 'precision', 'recall'])\n",
    "model_df.sort_values(['f1'] ,ascending = False)"
   ]
  },
  {
   "cell_type": "code",
   "execution_count": null,
   "id": "efa28832",
   "metadata": {},
   "outputs": [],
   "source": []
  }
 ],
 "metadata": {
  "kernelspec": {
   "display_name": "Python 3 (ipykernel)",
   "language": "python",
   "name": "python3"
  },
  "language_info": {
   "codemirror_mode": {
    "name": "ipython",
    "version": 3
   },
   "file_extension": ".py",
   "mimetype": "text/x-python",
   "name": "python",
   "nbconvert_exporter": "python",
   "pygments_lexer": "ipython3",
   "version": "3.9.13"
  }
 },
 "nbformat": 4,
 "nbformat_minor": 5
}
