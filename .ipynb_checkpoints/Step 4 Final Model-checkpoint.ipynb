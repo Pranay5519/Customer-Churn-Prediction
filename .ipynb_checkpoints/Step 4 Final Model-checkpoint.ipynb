{
 "cells": [
  {
   "cell_type": "code",
   "execution_count": 25,
   "id": "ddc74bb1",
   "metadata": {},
   "outputs": [],
   "source": [
    "from sklearn.metrics import accuracy_score, f1_score, precision_score,make_scorer, recall_score , confusion_matrix\n",
    "import pandas as pd\n",
    "from sklearn.model_selection import train_test_split\n",
    "from sklearn.preprocessing import OneHotEncoder, StandardScaler, OrdinalEncoder\n",
    "from sklearn.model_selection import KFold, cross_val_score \n",
    "import numpy as np\n",
    "from sklearn.model_selection import GridSearchCV , cross_val_score \n",
    "from sklearn.pipeline import Pipeline\n",
    "from sklearn.compose import ColumnTransformer\n",
    "from imblearn.over_sampling import SMOTE\n",
    "from sklearn.preprocessing import  StandardScaler, OneHotEncoder\n",
    "from sklearn.ensemble import RandomForestClassifier, ExtraTreesClassifier, GradientBoostingClassifier, AdaBoostClassifier"
   ]
  },
  {
   "cell_type": "code",
   "execution_count": 2,
   "id": "014edbd5",
   "metadata": {},
   "outputs": [
    {
     "data": {
      "text/html": [
       "<div>\n",
       "<style scoped>\n",
       "    .dataframe tbody tr th:only-of-type {\n",
       "        vertical-align: middle;\n",
       "    }\n",
       "\n",
       "    .dataframe tbody tr th {\n",
       "        vertical-align: top;\n",
       "    }\n",
       "\n",
       "    .dataframe thead th {\n",
       "        text-align: right;\n",
       "    }\n",
       "</style>\n",
       "<table border=\"1\" class=\"dataframe\">\n",
       "  <thead>\n",
       "    <tr style=\"text-align: right;\">\n",
       "      <th></th>\n",
       "      <th>CIF</th>\n",
       "      <th>CUS_DOB</th>\n",
       "      <th>AGE</th>\n",
       "      <th>CUS_Month_Income</th>\n",
       "      <th>CUS_Gender</th>\n",
       "      <th>CUS_Marital_Status</th>\n",
       "      <th>CUS_Customer_Since</th>\n",
       "      <th>YEARS_WITH_US</th>\n",
       "      <th># total debit transactions for S1</th>\n",
       "      <th># total debit transactions for S2</th>\n",
       "      <th>...</th>\n",
       "      <th>total credit amount for S2</th>\n",
       "      <th>total credit amount for S3</th>\n",
       "      <th>total debit amount</th>\n",
       "      <th>total debit transactions</th>\n",
       "      <th>total credit amount</th>\n",
       "      <th>total credit transactions</th>\n",
       "      <th>total transactions</th>\n",
       "      <th>CUS_Target</th>\n",
       "      <th>TAR_Desc</th>\n",
       "      <th>Status</th>\n",
       "    </tr>\n",
       "  </thead>\n",
       "  <tbody>\n",
       "    <tr>\n",
       "      <th>0</th>\n",
       "      <td>XXXXXX</td>\n",
       "      <td>Feb 13 1970 12:00AM</td>\n",
       "      <td>49</td>\n",
       "      <td>7116.64</td>\n",
       "      <td>MALE</td>\n",
       "      <td>MARRIED</td>\n",
       "      <td>1994-06-30</td>\n",
       "      <td>25</td>\n",
       "      <td>277</td>\n",
       "      <td>265</td>\n",
       "      <td>...</td>\n",
       "      <td>1764079.61</td>\n",
       "      <td>2378592.62</td>\n",
       "      <td>4758311.63</td>\n",
       "      <td>887</td>\n",
       "      <td>5659653.33</td>\n",
       "      <td>65</td>\n",
       "      <td>952</td>\n",
       "      <td>2231</td>\n",
       "      <td>EXECUTIVE</td>\n",
       "      <td>ACTIVE</td>\n",
       "    </tr>\n",
       "    <tr>\n",
       "      <th>1</th>\n",
       "      <td>XXXXXX</td>\n",
       "      <td>Sep 20 1973 12:00AM</td>\n",
       "      <td>46</td>\n",
       "      <td>1500000.00</td>\n",
       "      <td>FEMALE</td>\n",
       "      <td>SINGLE</td>\n",
       "      <td>2005-05-19</td>\n",
       "      <td>14</td>\n",
       "      <td>37</td>\n",
       "      <td>15</td>\n",
       "      <td>...</td>\n",
       "      <td>19500.00</td>\n",
       "      <td>57500.00</td>\n",
       "      <td>139363.22</td>\n",
       "      <td>97</td>\n",
       "      <td>87000.00</td>\n",
       "      <td>10</td>\n",
       "      <td>107</td>\n",
       "      <td>2223</td>\n",
       "      <td>LOW</td>\n",
       "      <td>ACTIVE</td>\n",
       "    </tr>\n",
       "  </tbody>\n",
       "</table>\n",
       "<p>2 rows × 28 columns</p>\n",
       "</div>"
      ],
      "text/plain": [
       "      CIF              CUS_DOB  AGE  CUS_Month_Income CUS_Gender  \\\n",
       "0  XXXXXX  Feb 13 1970 12:00AM   49           7116.64       MALE   \n",
       "1  XXXXXX  Sep 20 1973 12:00AM   46        1500000.00     FEMALE   \n",
       "\n",
       "  CUS_Marital_Status CUS_Customer_Since  YEARS_WITH_US  \\\n",
       "0            MARRIED         1994-06-30             25   \n",
       "1             SINGLE         2005-05-19             14   \n",
       "\n",
       "   # total debit transactions for S1  # total debit transactions for S2  ...  \\\n",
       "0                                277                                265  ...   \n",
       "1                                 37                                 15  ...   \n",
       "\n",
       "   total credit amount for S2  total credit amount for S3  total debit amount  \\\n",
       "0                  1764079.61                  2378592.62          4758311.63   \n",
       "1                    19500.00                    57500.00           139363.22   \n",
       "\n",
       "   total debit transactions  total credit amount  total credit transactions  \\\n",
       "0                       887           5659653.33                         65   \n",
       "1                        97             87000.00                         10   \n",
       "\n",
       "   total transactions  CUS_Target   TAR_Desc  Status  \n",
       "0                 952        2231  EXECUTIVE  ACTIVE  \n",
       "1                 107        2223        LOW  ACTIVE  \n",
       "\n",
       "[2 rows x 28 columns]"
      ]
     },
     "execution_count": 2,
     "metadata": {},
     "output_type": "execute_result"
    }
   ],
   "source": [
    "df = pd.read_excel('CHURNDATA (1) (1).xlsx')\n",
    "df.head(2)"
   ]
  },
  {
   "cell_type": "code",
   "execution_count": 3,
   "id": "baf1af3a",
   "metadata": {},
   "outputs": [],
   "source": [
    "del df['CIF']\n",
    "del df['CUS_DOB']\n",
    "del df['CUS_Customer_Since']\n",
    "del df['total debit transactions']\n",
    "del df['total credit transactions']\n",
    "del df['total transactions']\n",
    "del df['TAR_Desc']\n",
    "del df['CUS_Target']"
   ]
  },
  {
   "cell_type": "code",
   "execution_count": 4,
   "id": "5a897443",
   "metadata": {},
   "outputs": [
    {
     "name": "stdout",
     "output_type": "stream",
     "text": [
      "AGE\n",
      "CUS_Month_Income\n",
      "CUS_Gender\n",
      "CUS_Marital_Status\n",
      "YEARS_WITH_US\n",
      "# total debit transactions for S1\n",
      "# total debit transactions for S2\n",
      "# total debit transactions for S3\n",
      "total debit amount for S1\n",
      "total debit amount for S2\n",
      "total debit amount for S3\n",
      "# total credit transactions for S1\n",
      "# total credit transactions for S2\n",
      "# total credit transactions for S3\n",
      "total credit amount for S1\n",
      "total credit amount for S2\n",
      "total credit amount for S3\n",
      "total debit amount\n",
      "total credit amount\n",
      "Status\n"
     ]
    }
   ],
   "source": [
    "for x in df.columns:\n",
    "    print(x)"
   ]
  },
  {
   "cell_type": "code",
   "execution_count": 5,
   "id": "035e3389",
   "metadata": {},
   "outputs": [],
   "source": [
    "df.dropna(inplace = True)"
   ]
  },
  {
   "cell_type": "code",
   "execution_count": 6,
   "id": "e3a5a9e8",
   "metadata": {},
   "outputs": [],
   "source": [
    "# Encoding Target Column\n",
    "df['Status'] = df['Status'].map({'ACTIVE':0 , 'CHURN':1})"
   ]
  },
  {
   "cell_type": "code",
   "execution_count": 7,
   "id": "c5a88a1c",
   "metadata": {},
   "outputs": [],
   "source": [
    "X = df.drop(columns=['Status'] , axis=1)\n",
    "y = df['Status']"
   ]
  },
  {
   "cell_type": "markdown",
   "id": "f2bf51f5",
   "metadata": {},
   "source": [
    "# Column Transformer"
   ]
  },
  {
   "cell_type": "code",
   "execution_count": 8,
   "id": "44cd622e",
   "metadata": {},
   "outputs": [],
   "source": [
    "columns_to_encode = ['CUS_Gender','CUS_Marital_Status']\n",
    "scaling = ['AGE','CUS_Month_Income','YEARS_WITH_US', '# total debit transactions for S1',\n",
    "       '# total debit transactions for S2',\n",
    "       '# total debit transactions for S3', 'total debit amount for S1',\n",
    "       'total debit amount for S2', 'total debit amount for S3',\n",
    "       '# total credit transactions for S1',\n",
    "       '# total credit transactions for S2',\n",
    "       '# total credit transactions for S3', 'total credit amount for S1',\n",
    "       'total credit amount for S2', 'total credit amount for S3',\n",
    "       'total debit amount', 'total credit amount']\n"
   ]
  },
  {
   "cell_type": "code",
   "execution_count": 9,
   "id": "f33a3700",
   "metadata": {},
   "outputs": [
    {
     "data": {
      "text/html": [
       "<div>\n",
       "<style scoped>\n",
       "    .dataframe tbody tr th:only-of-type {\n",
       "        vertical-align: middle;\n",
       "    }\n",
       "\n",
       "    .dataframe tbody tr th {\n",
       "        vertical-align: top;\n",
       "    }\n",
       "\n",
       "    .dataframe thead th {\n",
       "        text-align: right;\n",
       "    }\n",
       "</style>\n",
       "<table border=\"1\" class=\"dataframe\">\n",
       "  <thead>\n",
       "    <tr style=\"text-align: right;\">\n",
       "      <th></th>\n",
       "      <th>0</th>\n",
       "      <th>1</th>\n",
       "      <th>2</th>\n",
       "      <th>3</th>\n",
       "      <th>4</th>\n",
       "      <th>5</th>\n",
       "      <th>6</th>\n",
       "      <th>7</th>\n",
       "      <th>8</th>\n",
       "      <th>9</th>\n",
       "      <th>...</th>\n",
       "      <th>15</th>\n",
       "      <th>16</th>\n",
       "      <th>17</th>\n",
       "      <th>18</th>\n",
       "      <th>19</th>\n",
       "      <th>20</th>\n",
       "      <th>21</th>\n",
       "      <th>22</th>\n",
       "      <th>23</th>\n",
       "      <th>24</th>\n",
       "    </tr>\n",
       "  </thead>\n",
       "  <tbody>\n",
       "    <tr>\n",
       "      <th>0</th>\n",
       "      <td>0.203513</td>\n",
       "      <td>-0.510262</td>\n",
       "      <td>5.064423</td>\n",
       "      <td>2.746701</td>\n",
       "      <td>2.572269</td>\n",
       "      <td>3.389096</td>\n",
       "      <td>0.751661</td>\n",
       "      <td>0.707613</td>\n",
       "      <td>1.868364</td>\n",
       "      <td>0.171958</td>\n",
       "      <td>...</td>\n",
       "      <td>1.211239</td>\n",
       "      <td>1.276822</td>\n",
       "      <td>0.0</td>\n",
       "      <td>1.0</td>\n",
       "      <td>0.0</td>\n",
       "      <td>1.0</td>\n",
       "      <td>0.0</td>\n",
       "      <td>0.0</td>\n",
       "      <td>0.0</td>\n",
       "      <td>0.0</td>\n",
       "    </tr>\n",
       "  </tbody>\n",
       "</table>\n",
       "<p>1 rows × 25 columns</p>\n",
       "</div>"
      ],
      "text/plain": [
       "         0         1         2         3         4         5         6   \\\n",
       "0  0.203513 -0.510262  5.064423  2.746701  2.572269  3.389096  0.751661   \n",
       "\n",
       "         7         8         9   ...        15        16   17   18   19   20  \\\n",
       "0  0.707613  1.868364  0.171958  ...  1.211239  1.276822  0.0  1.0  0.0  1.0   \n",
       "\n",
       "    21   22   23   24  \n",
       "0  0.0  0.0  0.0  0.0  \n",
       "\n",
       "[1 rows x 25 columns]"
      ]
     },
     "execution_count": 9,
     "metadata": {},
     "output_type": "execute_result"
    }
   ],
   "source": [
    "preprocessor = ColumnTransformer(\n",
    "    transformers=[\n",
    "        ('standardscaler', StandardScaler(), scaling),\n",
    "        ('cat', OneHotEncoder(), columns_to_encode)\n",
    "    ],\n",
    "    remainder='passthrough'\n",
    ")\n",
    "\n",
    "# Apply the preprocessing to your DataFrame\n",
    "X_preprocessed = preprocessor.fit_transform(X)\n",
    "\n",
    "# Convert the transformed data back to a DataFrame\n",
    "X_preprocessed_df = pd.DataFrame(X_preprocessed)\n",
    "# Now, X_preprocessed_df contains the preprocessed data\n",
    "X_preprocessed_df.head(1)"
   ]
  },
  {
   "cell_type": "markdown",
   "id": "9860a50f",
   "metadata": {},
   "source": [
    "#### Smote Oversampling"
   ]
  },
  {
   "cell_type": "code",
   "execution_count": 10,
   "id": "0dcde72f",
   "metadata": {},
   "outputs": [],
   "source": [
    "smote = SMOTE()\n",
    "X_resampled , y_resampled = smote.fit_resample(X_preprocessed_df , y)"
   ]
  },
  {
   "cell_type": "markdown",
   "id": "0232cade",
   "metadata": {},
   "source": [
    "### Training model"
   ]
  },
  {
   "cell_type": "code",
   "execution_count": 11,
   "id": "ffca3de9",
   "metadata": {},
   "outputs": [],
   "source": [
    "def train_and_evaluate(model, X, y, test_size=0.2, random_state=42):\n",
    "    # Split the data into training and testing sets\n",
    "    X_train, X_test, y_train, y_test = train_test_split(X, y, test_size=test_size, random_state=random_state)\n",
    "\n",
    "    # Train the model\n",
    "    model.fit(X_train, y_train)\n",
    "\n",
    "    # Make predictions on the test set\n",
    "    y_pred = model.predict(X_test)\n",
    "\n",
    "    # Calculate metrics\n",
    "    train_accuracy = model.score(X_train, y_train)\n",
    "    test_accuracy = accuracy_score(y_test, y_pred)\n",
    "    precision = precision_score(y_test, y_pred)\n",
    "    recall = recall_score(y_test, y_pred)\n",
    "    f1 = f1_score(y_test, y_pred)\n",
    "\n",
    "    # Output the metrics\n",
    "    metrics = {\n",
    "        'Train Accuracy': train_accuracy,\n",
    "        'Test Accuracy': test_accuracy,\n",
    "        'Precision': precision,\n",
    "        'Recall': recall,\n",
    "        'F1 Score': f1,\n",
    "        'confusion mat' : confusion_matrix(y_test ,y_pred)\n",
    "    }\n",
    "    return metrics"
   ]
  },
  {
   "cell_type": "code",
   "execution_count": 12,
   "id": "71c55caa",
   "metadata": {},
   "outputs": [],
   "source": [
    "### using GridSearchCV"
   ]
  },
  {
   "cell_type": "code",
   "execution_count": 13,
   "id": "0c5f80ab",
   "metadata": {},
   "outputs": [
    {
     "data": {
      "text/plain": [
       "\"extra_tree = ExtraTreesClassifier()\\n\\n# Define the hyperparameter grid to search\\nparam_grid = {\\n    'n_estimators': [50, 100, 200],\\n    'min_samples_split': [2, 5, 10],\\n    'min_samples_leaf': [1, 2, 4]\\n}\\n\\n# Create the grid search object\\ngrid_search = GridSearchCV(extra_tree, param_grid, cv=5, scoring='precision')\\n\\n# Fit the grid search to the data\\ngrid_search.fit(X_resampled, y_resampled)\\ngrid_search.best_params_\\n\""
      ]
     },
     "execution_count": 13,
     "metadata": {},
     "output_type": "execute_result"
    }
   ],
   "source": [
    "'''extra_tree = ExtraTreesClassifier()\n",
    "\n",
    "# Define the hyperparameter grid to search\n",
    "param_grid = {\n",
    "    'n_estimators': [50, 100, 200],\n",
    "    'min_samples_split': [2, 5, 10],\n",
    "    'min_samples_leaf': [1, 2, 4]\n",
    "}\n",
    "\n",
    "# Create the grid search object\n",
    "grid_search = GridSearchCV(extra_tree, param_grid, cv=5, scoring='precision')\n",
    "\n",
    "# Fit the grid search to the data\n",
    "grid_search.fit(X_resampled, y_resampled)\n",
    "grid_search.best_params_\n",
    "'''"
   ]
  },
  {
   "cell_type": "code",
   "execution_count": 35,
   "id": "cfcb833e",
   "metadata": {},
   "outputs": [
    {
     "data": {
      "text/plain": [
       "(0.8922334545585769,\n",
       " array([0.91282051, 0.88127854, 0.9468599 , 0.83474576, 0.88546256]))"
      ]
     },
     "execution_count": 35,
     "metadata": {},
     "output_type": "execute_result"
    }
   ],
   "source": [
    "precision_scorer = make_scorer(precision_score, pos_label=1)  # Set pos_label to the label of the positive class\n",
    "\n",
    "# Perform cross-validation with precision as the scoring metric\n",
    "cross_val_precision = cross_val_score(ExtraTreesClassifier(n_estimators=1000), X_resampled, y_resampled, cv=5, scoring=precision_scorer)\n",
    "np.mean(cross_val_precision) , cross_val_precision"
   ]
  },
  {
   "cell_type": "code",
   "execution_count": null,
   "id": "b3340ef7",
   "metadata": {},
   "outputs": [],
   "source": []
  },
  {
   "cell_type": "code",
   "execution_count": 75,
   "id": "6c1a70e4",
   "metadata": {},
   "outputs": [
    {
     "data": {
      "text/plain": [
       "{'Train Accuracy': 1.0,\n",
       " 'Test Accuracy': 0.8990147783251231,\n",
       " 'Precision': 0.8883928571428571,\n",
       " 'Recall': 0.9255813953488372,\n",
       " 'F1 Score': 0.9066059225512528,\n",
       " 'confusion mat': array([[166,  25],\n",
       "        [ 16, 199]], dtype=int64)}"
      ]
     },
     "execution_count": 75,
     "metadata": {},
     "output_type": "execute_result"
    }
   ],
   "source": [
    "metrics = train_and_evaluate( ExtraTreesClassifier(class_weight={0: 1, 1: 10} ), X_resampled, y_resampled)\n",
    "metrics"
   ]
  },
  {
   "cell_type": "code",
   "execution_count": 70,
   "id": "728783a0",
   "metadata": {},
   "outputs": [
    {
     "data": {
      "image/png": "[encoded data removed]",
      "text/plain": [
       "<Figure size 640x480 with 2 Axes>"
      ]
     },
     "metadata": {},
     "output_type": "display_data"
    }
   ],
   "source": [
    "import matplotlib.pyplot as plt\n",
    "import seaborn as sns\n",
    "sns.heatmap(metrics['confusion mat'], annot=True, fmt='d', cmap='Blues', xticklabels=['Not Churn', 'Churn'], yticklabels=['Not Churn', 'Churn'])\n",
    "plt.xlabel('Predicted')\n",
    "plt.ylabel('Actual')\n",
    "plt.title('Confusion Matrix')\n",
    "plt.show()"
   ]
  },
  {
   "cell_type": "code",
   "execution_count": 16,
   "id": "0b8439e6",
   "metadata": {},
   "outputs": [],
   "source": [
    "# by deleteing only 'total' values cols precicion is above 90\n",
    "# by deleting only 'range transaction for particular season' , precision is below 90\n",
    "# not deleting any then precision is 88"
   ]
  },
  {
   "cell_type": "code",
   "execution_count": null,
   "id": "6a6b3825",
   "metadata": {},
   "outputs": [],
   "source": []
  }
 ],
 "metadata": {
  "kernelspec": {
   "display_name": "Python 3 (ipykernel)",
   "language": "python",
   "name": "python3"
  },
  "language_info": {
   "codemirror_mode": {
    "name": "ipython",
    "version": 3
   },
   "file_extension": ".py",
   "mimetype": "text/x-python",
   "name": "python",
   "nbconvert_exporter": "python",
   "pygments_lexer": "ipython3",
   "version": "3.9.13"
  }
 },
 "nbformat": 4,
 "nbformat_minor": 5
}
