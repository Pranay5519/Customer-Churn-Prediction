{
 "cells": [
  {
   "cell_type": "code",
   "execution_count": 21,
   "id": "ddc74bb1",
   "metadata": {},
   "outputs": [],
   "source": [
    "from sklearn.metrics import accuracy_score, f1_score, precision_score,make_scorer,roc_curve, recall_score,classification_report , confusion_matrix , auc , roc_auc_score\n",
    "import pandas as pd\n",
    "from sklearn.model_selection import train_test_split\n",
    "from sklearn.preprocessing import OneHotEncoder, StandardScaler, OrdinalEncoder\n",
    "from sklearn.model_selection import KFold, cross_val_score \n",
    "import numpy as np\n",
    "from sklearn.model_selection import GridSearchCV , cross_val_score \n",
    "from sklearn.pipeline import Pipeline\n",
    "from sklearn.compose import ColumnTransformer\n",
    "from imblearn.over_sampling import SMOTE\n",
    "from sklearn.preprocessing import  StandardScaler, OneHotEncoder\n",
    "from hyperopt import fmin , tpe , hp\n",
    "from sklearn.ensemble import RandomForestClassifier, ExtraTreesClassifier, GradientBoostingClassifier, AdaBoostClassifier\n",
    "import warnings\n",
    "warnings.filterwarnings(\"ignore\")"
   ]
  },
  {
   "cell_type": "code",
   "execution_count": null,
   "id": "d92c6676",
   "metadata": {},
   "outputs": [],
   "source": []
  },
  {
   "cell_type": "code",
   "execution_count": 3,
   "id": "014edbd5",
   "metadata": {},
   "outputs": [
    {
     "data": {
      "text/html": [
       "<div>\n",
       "<style scoped>\n",
       "    .dataframe tbody tr th:only-of-type {\n",
       "        vertical-align: middle;\n",
       "    }\n",
       "\n",
       "    .dataframe tbody tr th {\n",
       "        vertical-align: top;\n",
       "    }\n",
       "\n",
       "    .dataframe thead th {\n",
       "        text-align: right;\n",
       "    }\n",
       "</style>\n",
       "<table border=\"1\" class=\"dataframe\">\n",
       "  <thead>\n",
       "    <tr style=\"text-align: right;\">\n",
       "      <th></th>\n",
       "      <th>CIF</th>\n",
       "      <th>CUS_DOB</th>\n",
       "      <th>AGE</th>\n",
       "      <th>CUS_Month_Income</th>\n",
       "      <th>CUS_Gender</th>\n",
       "      <th>CUS_Marital_Status</th>\n",
       "      <th>CUS_Customer_Since</th>\n",
       "      <th>YEARS_WITH_US</th>\n",
       "      <th># total debit transactions for S1</th>\n",
       "      <th># total debit transactions for S2</th>\n",
       "      <th>...</th>\n",
       "      <th>total credit amount for S2</th>\n",
       "      <th>total credit amount for S3</th>\n",
       "      <th>total debit amount</th>\n",
       "      <th>total debit transactions</th>\n",
       "      <th>total credit amount</th>\n",
       "      <th>total credit transactions</th>\n",
       "      <th>total transactions</th>\n",
       "      <th>CUS_Target</th>\n",
       "      <th>TAR_Desc</th>\n",
       "      <th>Status</th>\n",
       "    </tr>\n",
       "  </thead>\n",
       "  <tbody>\n",
       "    <tr>\n",
       "      <th>0</th>\n",
       "      <td>XXXXXX</td>\n",
       "      <td>Feb 13 1970 12:00AM</td>\n",
       "      <td>49</td>\n",
       "      <td>7116.64</td>\n",
       "      <td>MALE</td>\n",
       "      <td>MARRIED</td>\n",
       "      <td>1994-06-30</td>\n",
       "      <td>25</td>\n",
       "      <td>277</td>\n",
       "      <td>265</td>\n",
       "      <td>...</td>\n",
       "      <td>1764079.61</td>\n",
       "      <td>2378592.62</td>\n",
       "      <td>4758311.63</td>\n",
       "      <td>887</td>\n",
       "      <td>5659653.33</td>\n",
       "      <td>65</td>\n",
       "      <td>952</td>\n",
       "      <td>2231</td>\n",
       "      <td>EXECUTIVE</td>\n",
       "      <td>ACTIVE</td>\n",
       "    </tr>\n",
       "    <tr>\n",
       "      <th>1</th>\n",
       "      <td>XXXXXX</td>\n",
       "      <td>Sep 20 1973 12:00AM</td>\n",
       "      <td>46</td>\n",
       "      <td>1500000.00</td>\n",
       "      <td>FEMALE</td>\n",
       "      <td>SINGLE</td>\n",
       "      <td>2005-05-19</td>\n",
       "      <td>14</td>\n",
       "      <td>37</td>\n",
       "      <td>15</td>\n",
       "      <td>...</td>\n",
       "      <td>19500.00</td>\n",
       "      <td>57500.00</td>\n",
       "      <td>139363.22</td>\n",
       "      <td>97</td>\n",
       "      <td>87000.00</td>\n",
       "      <td>10</td>\n",
       "      <td>107</td>\n",
       "      <td>2223</td>\n",
       "      <td>LOW</td>\n",
       "      <td>ACTIVE</td>\n",
       "    </tr>\n",
       "  </tbody>\n",
       "</table>\n",
       "<p>2 rows × 28 columns</p>\n",
       "</div>"
      ],
      "text/plain": [
       "      CIF              CUS_DOB  AGE  CUS_Month_Income CUS_Gender  \\\n",
       "0  XXXXXX  Feb 13 1970 12:00AM   49           7116.64       MALE   \n",
       "1  XXXXXX  Sep 20 1973 12:00AM   46        1500000.00     FEMALE   \n",
       "\n",
       "  CUS_Marital_Status CUS_Customer_Since  YEARS_WITH_US  \\\n",
       "0            MARRIED         1994-06-30             25   \n",
       "1             SINGLE         2005-05-19             14   \n",
       "\n",
       "   # total debit transactions for S1  # total debit transactions for S2  ...  \\\n",
       "0                                277                                265  ...   \n",
       "1                                 37                                 15  ...   \n",
       "\n",
       "   total credit amount for S2  total credit amount for S3  total debit amount  \\\n",
       "0                  1764079.61                  2378592.62          4758311.63   \n",
       "1                    19500.00                    57500.00           139363.22   \n",
       "\n",
       "   total debit transactions  total credit amount  total credit transactions  \\\n",
       "0                       887           5659653.33                         65   \n",
       "1                        97             87000.00                         10   \n",
       "\n",
       "   total transactions  CUS_Target   TAR_Desc  Status  \n",
       "0                 952        2231  EXECUTIVE  ACTIVE  \n",
       "1                 107        2223        LOW  ACTIVE  \n",
       "\n",
       "[2 rows x 28 columns]"
      ]
     },
     "execution_count": 3,
     "metadata": {},
     "output_type": "execute_result"
    }
   ],
   "source": [
    "df = pd.read_excel('CHURNDATA (1) (1).xlsx')\n",
    "df.head(2)"
   ]
  },
  {
   "cell_type": "code",
   "execution_count": 4,
   "id": "2f4b49fb",
   "metadata": {},
   "outputs": [
    {
     "data": {
      "text/plain": [
       "(1249, 28)"
      ]
     },
     "execution_count": 4,
     "metadata": {},
     "output_type": "execute_result"
    }
   ],
   "source": [
    "df.shape"
   ]
  },
  {
   "cell_type": "code",
   "execution_count": 5,
   "id": "aa79742d",
   "metadata": {},
   "outputs": [
    {
     "data": {
      "text/plain": [
       "Index(['CIF', 'CUS_DOB', 'AGE', 'CUS_Month_Income', 'CUS_Gender',\n",
       "       'CUS_Marital_Status', 'CUS_Customer_Since', 'YEARS_WITH_US',\n",
       "       '# total debit transactions for S1',\n",
       "       '# total debit transactions for S2',\n",
       "       '# total debit transactions for S3', 'total debit amount for S1',\n",
       "       'total debit amount for S2', 'total debit amount for S3',\n",
       "       '# total credit transactions for S1',\n",
       "       '# total credit transactions for S2',\n",
       "       '# total credit transactions for S3', 'total credit amount for S1',\n",
       "       'total credit amount for S2', 'total credit amount for S3',\n",
       "       'total debit amount', 'total debit transactions', 'total credit amount',\n",
       "       'total credit transactions', 'total transactions', 'CUS_Target',\n",
       "       'TAR_Desc', 'Status'],\n",
       "      dtype='object')"
      ]
     },
     "execution_count": 5,
     "metadata": {},
     "output_type": "execute_result"
    }
   ],
   "source": [
    "df.columns"
   ]
  },
  {
   "cell_type": "code",
   "execution_count": 6,
   "id": "baf1af3a",
   "metadata": {},
   "outputs": [],
   "source": [
    "# delete cols\n",
    "\n",
    "del df['CIF']\n",
    "del df['CUS_DOB']\n",
    "del df['CUS_Customer_Since']\n",
    "del df['total debit transactions']\n",
    "del df['total credit transactions']\n",
    "del df['total transactions']\n",
    "del df['TAR_Desc']\n",
    "del df['CUS_Target']\n"
   ]
  },
  {
   "cell_type": "code",
   "execution_count": 7,
   "id": "035e3389",
   "metadata": {},
   "outputs": [],
   "source": [
    "df.dropna(inplace = True)"
   ]
  },
  {
   "cell_type": "code",
   "execution_count": 8,
   "id": "e3a5a9e8",
   "metadata": {},
   "outputs": [],
   "source": [
    "# Encoding Target Column\n",
    "df['Status'] = df['Status'].map({'ACTIVE':0 , 'CHURN':1})"
   ]
  },
  {
   "cell_type": "code",
   "execution_count": 9,
   "id": "c5a88a1c",
   "metadata": {},
   "outputs": [],
   "source": [
    "X = df.drop(columns=['Status'] , axis=1)\n",
    "y = df['Status']"
   ]
  },
  {
   "cell_type": "markdown",
   "id": "f2bf51f5",
   "metadata": {},
   "source": [
    "# Column Transformer"
   ]
  },
  {
   "cell_type": "code",
   "execution_count": 10,
   "id": "44cd622e",
   "metadata": {},
   "outputs": [],
   "source": [
    "columns_to_encode = ['CUS_Gender','CUS_Marital_Status']\n",
    "scaling = ['AGE','CUS_Month_Income','YEARS_WITH_US', '# total debit transactions for S1',\n",
    "       '# total debit transactions for S2',\n",
    "       '# total debit transactions for S3', 'total debit amount for S1',\n",
    "       'total debit amount for S2', 'total debit amount for S3',\n",
    "       '# total credit transactions for S1',\n",
    "       '# total credit transactions for S2',\n",
    "       '# total credit transactions for S3', 'total credit amount for S1',\n",
    "       'total credit amount for S2', 'total credit amount for S3',\n",
    "       ]\n"
   ]
  },
  {
   "cell_type": "code",
   "execution_count": 11,
   "id": "f33a3700",
   "metadata": {},
   "outputs": [
    {
     "data": {
      "text/html": [
       "<div>\n",
       "<style scoped>\n",
       "    .dataframe tbody tr th:only-of-type {\n",
       "        vertical-align: middle;\n",
       "    }\n",
       "\n",
       "    .dataframe tbody tr th {\n",
       "        vertical-align: top;\n",
       "    }\n",
       "\n",
       "    .dataframe thead th {\n",
       "        text-align: right;\n",
       "    }\n",
       "</style>\n",
       "<table border=\"1\" class=\"dataframe\">\n",
       "  <thead>\n",
       "    <tr style=\"text-align: right;\">\n",
       "      <th></th>\n",
       "      <th>0</th>\n",
       "      <th>1</th>\n",
       "      <th>2</th>\n",
       "      <th>3</th>\n",
       "      <th>4</th>\n",
       "      <th>5</th>\n",
       "      <th>6</th>\n",
       "      <th>7</th>\n",
       "      <th>8</th>\n",
       "      <th>9</th>\n",
       "      <th>...</th>\n",
       "      <th>15</th>\n",
       "      <th>16</th>\n",
       "      <th>17</th>\n",
       "      <th>18</th>\n",
       "      <th>19</th>\n",
       "      <th>20</th>\n",
       "      <th>21</th>\n",
       "      <th>22</th>\n",
       "      <th>23</th>\n",
       "      <th>24</th>\n",
       "    </tr>\n",
       "  </thead>\n",
       "  <tbody>\n",
       "    <tr>\n",
       "      <th>0</th>\n",
       "      <td>0.0</td>\n",
       "      <td>1.0</td>\n",
       "      <td>0.0</td>\n",
       "      <td>1.0</td>\n",
       "      <td>0.0</td>\n",
       "      <td>0.0</td>\n",
       "      <td>0.0</td>\n",
       "      <td>0.0</td>\n",
       "      <td>49.0</td>\n",
       "      <td>7116.64</td>\n",
       "      <td>...</td>\n",
       "      <td>1230543.08</td>\n",
       "      <td>2068641.91</td>\n",
       "      <td>10.0</td>\n",
       "      <td>24.0</td>\n",
       "      <td>31.0</td>\n",
       "      <td>1516981.1</td>\n",
       "      <td>1764079.61</td>\n",
       "      <td>2378592.62</td>\n",
       "      <td>4758311.63</td>\n",
       "      <td>5659653.33</td>\n",
       "    </tr>\n",
       "  </tbody>\n",
       "</table>\n",
       "<p>1 rows × 25 columns</p>\n",
       "</div>"
      ],
      "text/plain": [
       "    0    1    2    3    4    5    6    7     8        9   ...          15  \\\n",
       "0  0.0  1.0  0.0  1.0  0.0  0.0  0.0  0.0  49.0  7116.64  ...  1230543.08   \n",
       "\n",
       "           16    17    18    19         20          21          22  \\\n",
       "0  2068641.91  10.0  24.0  31.0  1516981.1  1764079.61  2378592.62   \n",
       "\n",
       "           23          24  \n",
       "0  4758311.63  5659653.33  \n",
       "\n",
       "[1 rows x 25 columns]"
      ]
     },
     "execution_count": 11,
     "metadata": {},
     "output_type": "execute_result"
    }
   ],
   "source": [
    "preprocessor = ColumnTransformer(\n",
    "    transformers=[\n",
    "        ('cat', OneHotEncoder(), columns_to_encode)\n",
    "    ],\n",
    "    remainder='passthrough'\n",
    ")\n",
    "\n",
    "# Apply the preprocessing to your DataFrame\n",
    "X_preprocessed = preprocessor.fit_transform(X)\n",
    "\n",
    "# Convert the transformed data back to a DataFrame\n",
    "X_preprocessed_df = pd.DataFrame(X_preprocessed)\n",
    "# Now, X_preprocessed_df contains the preprocessed data\n",
    "X_preprocessed_df.head(1)"
   ]
  },
  {
   "cell_type": "markdown",
   "id": "9860a50f",
   "metadata": {},
   "source": [
    "#### Smote Oversampling"
   ]
  },
  {
   "cell_type": "code",
   "execution_count": 12,
   "id": "0dcde72f",
   "metadata": {},
   "outputs": [],
   "source": [
    "smote = SMOTE()\n",
    "X_resampled , y_resampled = smote.fit_resample(X_preprocessed_df , y)"
   ]
  },
  {
   "cell_type": "markdown",
   "id": "0232cade",
   "metadata": {},
   "source": [
    "### Training model"
   ]
  },
  {
   "cell_type": "code",
   "execution_count": 29,
   "id": "ffca3de9",
   "metadata": {},
   "outputs": [],
   "source": [
    "def train_and_evaluate(model, X, y, test_size=0.2, random_state=42):\n",
    "    # Split the data into training and testing sets\n",
    "    X_train, X_test, y_train, y_test = train_test_split(X, y, test_size=test_size, random_state=random_state)\n",
    "\n",
    "    # Train the model\n",
    "    model.fit(X_train, y_train)\n",
    "\n",
    "    # Make predictions on the test set\n",
    "    y_pred = model.predict(X_test)\n",
    "\n",
    "    # Calculate metrics\n",
    "    train_accuracy = model.score(X_train, y_train)\n",
    "    test_accuracy = accuracy_score(y_test, y_pred)\n",
    "    precision = precision_score(y_test, y_pred)\n",
    "    recall = recall_score(y_test, y_pred)\n",
    "    f1 = f1_score(y_test, y_pred)\n",
    "    \n",
    "    # Calculate ROC curve and AUC\n",
    "    fpr, tpr, thresholds = roc_curve(y_test, y_pred)\n",
    "    roc_auc = auc(fpr, tpr)\n",
    "\n",
    "    # Plot ROC curve\n",
    "    plt.figure(figsize=(3, 3))\n",
    "    plt.plot(fpr, tpr, color='darkorange', lw=2, label=f'AUC = {roc_auc:.2f}')\n",
    "    plt.plot([0, 1], [0, 1], color='navy', lw=2, linestyle='--')\n",
    "    plt.xlabel('False Positive Rate')\n",
    "    plt.ylabel('True Positive Rate')\n",
    "    plt.title('Receiver Operating Characteristic (ROC) Curve')\n",
    "    plt.legend(loc='lower right')\n",
    "    plt.show()\n",
    "\n",
    "    # Output the metrics\n",
    "    metrics = {\n",
    "        'Train Accuracy': train_accuracy,\n",
    "        'Test Accuracy': test_accuracy,\n",
    "        'Precision': precision,\n",
    "        'Recall': recall,\n",
    "        'F1 Score': f1,\n",
    "        'confusion mat': confusion_matrix(y_test, y_pred),\n",
    "        'roc-and-auc': roc_auc_score(y_test, y_pred),\n",
    "         \n",
    "    }\n",
    "    print(classification_report(y_test, y_pred))\n",
    "    return metrics"
   ]
  },
  {
   "cell_type": "markdown",
   "id": "301d650e",
   "metadata": {},
   "source": [
    "### using GridSearchCV"
   ]
  },
  {
   "cell_type": "code",
   "execution_count": 14,
   "id": "0c5f80ab",
   "metadata": {},
   "outputs": [
    {
     "data": {
      "text/plain": [
       "{'min_samples_leaf': 1, 'min_samples_split': 2, 'n_estimators': 50}"
      ]
     },
     "execution_count": 14,
     "metadata": {},
     "output_type": "execute_result"
    }
   ],
   "source": [
    "extra_tree = ExtraTreesClassifier()\n",
    "\n",
    "# Define the hyperparameter grid to search\n",
    "param_grid = {\n",
    "    'n_estimators': [50, 100, 200],\n",
    "    'min_samples_split': [2, 5, 10],\n",
    "    'min_samples_leaf': [1, 2, 4]\n",
    "}\n",
    "\n",
    "# Create the grid search object\n",
    "grid_search = GridSearchCV(extra_tree, param_grid, cv=5, scoring='precision')\n",
    "\n",
    "# Fit the grid search to the data\n",
    "grid_search.fit(X_resampled, y_resampled)\n",
    "grid_search.best_params_\n"
   ]
  },
  {
   "cell_type": "markdown",
   "id": "bb369c88",
   "metadata": {},
   "source": [
    "### Trying Hyperopt"
   ]
  },
  {
   "cell_type": "code",
   "execution_count": 22,
   "id": "da9935da",
   "metadata": {},
   "outputs": [
    {
     "name": "stdout",
     "output_type": "stream",
     "text": [
      "100%|█████████████████████████████████████████████| 100/100 [01:21<00:00,  1.23trial/s, best loss: -0.8167487684729065]\n",
      "Best parameters: {'max_depth': 58, 'max_features': 3, 'min_samples_leaf': 0.10264196150397235, 'min_samples_split': 0.3985705483570986, 'n_estimators': 56}\n"
     ]
    }
   ],
   "source": [
    "def objective(params):\n",
    "    model = ExtraTreesClassifier(\n",
    "        n_estimators=params['n_estimators'],\n",
    "        max_depth=params['max_depth'],\n",
    "        min_samples_split=params['min_samples_split'],\n",
    "        min_samples_leaf=params['min_samples_leaf'],\n",
    "        max_features=params['max_features'],\n",
    "        random_state=42\n",
    "    )\n",
    "    score = cross_val_score(model, X_resampled, y_resampled).mean()\n",
    "    return -score  # Minimize, so negative of the score\n",
    "\n",
    "space = {\n",
    "    'n_estimators': hp.choice('n_estimators', range(50, 200)),\n",
    "    'max_depth': hp.choice('max_depth', range(1, 100)),\n",
    "    'min_samples_split': hp.uniform('min_samples_split', 0.1, 1.0),\n",
    "    'min_samples_leaf': hp.uniform('min_samples_leaf', 0.1, 0.5),\n",
    "    'max_features': hp.choice('max_features', ['auto', 'sqrt', 'log2', None])\n",
    "}\n",
    "\n",
    "# You can adjust the max_evals based on your computational resources\n",
    "best_params = fmin(fn=objective, space=space, algo=tpe.suggest, max_evals=100)\n",
    "\n",
    "print(\"Best parameters:\", best_params)"
   ]
  },
  {
   "cell_type": "markdown",
   "id": "7438b9c8",
   "metadata": {},
   "source": [
    "###  CRoss Val score check -- scoring  precision"
   ]
  },
  {
   "cell_type": "code",
   "execution_count": 16,
   "id": "4927cacc",
   "metadata": {},
   "outputs": [
    {
     "data": {
      "text/plain": [
       "(0.9211642709457182,\n",
       " array([0.95804196, 0.93103448, 0.93896714, 0.88444444, 0.89333333]))"
      ]
     },
     "execution_count": 16,
     "metadata": {},
     "output_type": "execute_result"
    }
   ],
   "source": [
    "precision_scorer = make_scorer(precision_score, pos_label=1)  # Set pos_label to the label of the positive class\n",
    "\n",
    "# Perform cross-validation with precision as the scoring metric\n",
    "cross_val_precision = cross_val_score(ExtraTreesClassifier(n_estimators=100), X_resampled, y_resampled, cv=5, scoring=precision_scorer)\n",
    "np.mean(cross_val_precision) , cross_val_precision"
   ]
  },
  {
   "cell_type": "markdown",
   "id": "eb74d19a",
   "metadata": {},
   "source": [
    "### Training the model"
   ]
  },
  {
   "cell_type": "code",
   "execution_count": 30,
   "id": "6c1a70e4",
   "metadata": {},
   "outputs": [
    {
     "data": {
      "image/png": "[encoded data removed]",
      "text/plain": [
       "<Figure size 300x300 with 1 Axes>"
      ]
     },
     "metadata": {},
     "output_type": "display_data"
    },
    {
     "name": "stdout",
     "output_type": "stream",
     "text": [
      "              precision    recall  f1-score   support\n",
      "\n",
      "           0       0.90      0.90      0.90       191\n",
      "           1       0.91      0.91      0.91       215\n",
      "\n",
      "    accuracy                           0.91       406\n",
      "   macro avg       0.91      0.91      0.91       406\n",
      "weighted avg       0.91      0.91      0.91       406\n",
      "\n"
     ]
    },
    {
     "data": {
      "text/plain": [
       "{'Train Accuracy': 1.0,\n",
       " 'Test Accuracy': 0.9064039408866995,\n",
       " 'Precision': 0.9116279069767442,\n",
       " 'Recall': 0.9116279069767442,\n",
       " 'F1 Score': 0.9116279069767442,\n",
       " 'confusion mat': array([[172,  19],\n",
       "        [ 19, 196]], dtype=int64),\n",
       " 'roc-and-auc': 0.9060757335930842}"
      ]
     },
     "execution_count": 30,
     "metadata": {},
     "output_type": "execute_result"
    }
   ],
   "source": [
    "metrics = train_and_evaluate( ExtraTreesClassifier(), X_resampled, y_resampled)\n",
    "metrics"
   ]
  },
  {
   "cell_type": "code",
   "execution_count": 18,
   "id": "728783a0",
   "metadata": {},
   "outputs": [
    {
     "data": {
      "image/png": "[encoded data removed]",
      "text/plain": [
       "<Figure size 640x480 with 2 Axes>"
      ]
     },
     "metadata": {},
     "output_type": "display_data"
    }
   ],
   "source": [
    "import matplotlib.pyplot as plt\n",
    "import seaborn as sns\n",
    "sns.heatmap(metrics['confusion mat'], annot=True, fmt='d', cmap='Blues', xticklabels=['Not Churn', 'Churn'], yticklabels=['Not Churn', 'Churn'])\n",
    "plt.xlabel('Predicted')\n",
    "plt.ylabel('Actual')\n",
    "plt.title('Confusion Matrix')\n",
    "plt.show()"
   ]
  },
  {
   "cell_type": "code",
   "execution_count": null,
   "id": "80d41707",
   "metadata": {},
   "outputs": [],
   "source": []
  }
 ],
 "metadata": {
  "kernelspec": {
   "display_name": "Python 3 (ipykernel)",
   "language": "python",
   "name": "python3"
  },
  "language_info": {
   "codemirror_mode": {
    "name": "ipython",
    "version": 3
   },
   "file_extension": ".py",
   "mimetype": "text/x-python",
   "name": "python",
   "nbconvert_exporter": "python",
   "pygments_lexer": "ipython3",
   "version": "3.9.13"
  }
 },
 "nbformat": 4,
 "nbformat_minor": 5
}
